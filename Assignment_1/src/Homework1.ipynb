{
 "cells": [
  {
   "cell_type": "markdown",
   "metadata": {},
   "source": [
    "## For this assignment, we will take the tsv file including all of the students names and randomly assign these students to groups. We can start by importing some common libraries we will be using."
   ]
  },
  {
   "cell_type": "code",
   "execution_count": 133,
   "metadata": {},
   "outputs": [],
   "source": [
    "import pandas as pd\n",
    "import random"
   ]
  },
  {
   "cell_type": "code",
   "execution_count": 134,
   "metadata": {},
   "outputs": [],
   "source": [
    "data = pd.read_csv('https://raw.githubusercontent.com/UNCG-CSE/CSC-405-605_Fall_2021/master/Assignment/Assignment_1/Data/fall-21-students.tsv?token=ATJZQFAWOYQR2KENV7O5ZUTBGJTZM', sep='\\t')"
   ]
  },
  {
   "cell_type": "code",
   "execution_count": 135,
   "metadata": {},
   "outputs": [
    {
     "data": {
      "text/html": [
       "<div>\n",
       "<style scoped>\n",
       "    .dataframe tbody tr th:only-of-type {\n",
       "        vertical-align: middle;\n",
       "    }\n",
       "\n",
       "    .dataframe tbody tr th {\n",
       "        vertical-align: top;\n",
       "    }\n",
       "\n",
       "    .dataframe thead th {\n",
       "        text-align: right;\n",
       "    }\n",
       "</style>\n",
       "<table border=\"1\" class=\"dataframe\">\n",
       "  <thead>\n",
       "    <tr style=\"text-align: right;\">\n",
       "      <th></th>\n",
       "      <th>Student</th>\n",
       "      <th>Hash</th>\n",
       "    </tr>\n",
       "  </thead>\n",
       "  <tbody>\n",
       "    <tr>\n",
       "      <th>0</th>\n",
       "      <td>Albadri, Hager</td>\n",
       "      <td>1440304164971153371</td>\n",
       "    </tr>\n",
       "    <tr>\n",
       "      <th>1</th>\n",
       "      <td>Brannon, Joseph</td>\n",
       "      <td>379392418257512139</td>\n",
       "    </tr>\n",
       "    <tr>\n",
       "      <th>2</th>\n",
       "      <td>Burleson, Howard</td>\n",
       "      <td>-5876059200547365790</td>\n",
       "    </tr>\n",
       "    <tr>\n",
       "      <th>3</th>\n",
       "      <td>Carver, Aka'sh</td>\n",
       "      <td>178417370705844770</td>\n",
       "    </tr>\n",
       "    <tr>\n",
       "      <th>4</th>\n",
       "      <td>Davis, Nathanael</td>\n",
       "      <td>-1155012396224177706</td>\n",
       "    </tr>\n",
       "    <tr>\n",
       "      <th>5</th>\n",
       "      <td>Devenouges, Cassidy</td>\n",
       "      <td>-2290910029969786308</td>\n",
       "    </tr>\n",
       "    <tr>\n",
       "      <th>6</th>\n",
       "      <td>Fink, Jack</td>\n",
       "      <td>-4639225912538006845</td>\n",
       "    </tr>\n",
       "    <tr>\n",
       "      <th>7</th>\n",
       "      <td>Hayes, Priscilla</td>\n",
       "      <td>-3307050396666584766</td>\n",
       "    </tr>\n",
       "    <tr>\n",
       "      <th>8</th>\n",
       "      <td>Honnenahalli, Srushti</td>\n",
       "      <td>8996458273604827358</td>\n",
       "    </tr>\n",
       "    <tr>\n",
       "      <th>9</th>\n",
       "      <td>Ksor, Patrick</td>\n",
       "      <td>-1916605416272849763</td>\n",
       "    </tr>\n",
       "    <tr>\n",
       "      <th>10</th>\n",
       "      <td>Qureshi, Sarah</td>\n",
       "      <td>5512444535046378584</td>\n",
       "    </tr>\n",
       "    <tr>\n",
       "      <th>11</th>\n",
       "      <td>Rhodes, Suqoya</td>\n",
       "      <td>1635691536871674328</td>\n",
       "    </tr>\n",
       "    <tr>\n",
       "      <th>12</th>\n",
       "      <td>Ruizvalencia, Carlos</td>\n",
       "      <td>-4216448415765763167</td>\n",
       "    </tr>\n",
       "    <tr>\n",
       "      <th>13</th>\n",
       "      <td>Serdan, Arturo</td>\n",
       "      <td>-4698901151058499785</td>\n",
       "    </tr>\n",
       "    <tr>\n",
       "      <th>14</th>\n",
       "      <td>Staton, Mckenzie</td>\n",
       "      <td>9117085443251601003</td>\n",
       "    </tr>\n",
       "    <tr>\n",
       "      <th>15</th>\n",
       "      <td>Supple, Kyle</td>\n",
       "      <td>6846964574701918709</td>\n",
       "    </tr>\n",
       "    <tr>\n",
       "      <th>16</th>\n",
       "      <td>Tan, Heng</td>\n",
       "      <td>3564399023861771691</td>\n",
       "    </tr>\n",
       "    <tr>\n",
       "      <th>17</th>\n",
       "      <td>Traylor, Alana</td>\n",
       "      <td>-29680934471851224</td>\n",
       "    </tr>\n",
       "    <tr>\n",
       "      <th>18</th>\n",
       "      <td>Wheeler, Sytiva</td>\n",
       "      <td>-2110293426468742815</td>\n",
       "    </tr>\n",
       "    <tr>\n",
       "      <th>19</th>\n",
       "      <td>Chunduru, Chandan Kumar</td>\n",
       "      <td>3670333503087225838</td>\n",
       "    </tr>\n",
       "    <tr>\n",
       "      <th>20</th>\n",
       "      <td>Folarin, Oluwafunke</td>\n",
       "      <td>-2704179675044602151</td>\n",
       "    </tr>\n",
       "    <tr>\n",
       "      <th>21</th>\n",
       "      <td>Him, Vathana</td>\n",
       "      <td>2400924999904550868</td>\n",
       "    </tr>\n",
       "    <tr>\n",
       "      <th>22</th>\n",
       "      <td>Jayanna, Deepa</td>\n",
       "      <td>4502929135190096095</td>\n",
       "    </tr>\n",
       "    <tr>\n",
       "      <th>23</th>\n",
       "      <td>Kalidindi, Poojitha</td>\n",
       "      <td>8226776967895380712</td>\n",
       "    </tr>\n",
       "    <tr>\n",
       "      <th>24</th>\n",
       "      <td>Kandula, Pavitra</td>\n",
       "      <td>9058734215712205409</td>\n",
       "    </tr>\n",
       "    <tr>\n",
       "      <th>25</th>\n",
       "      <td>Khan, Sarah</td>\n",
       "      <td>-3067489292745361752</td>\n",
       "    </tr>\n",
       "    <tr>\n",
       "      <th>26</th>\n",
       "      <td>Malgari, Chandra Shekhar Reddy</td>\n",
       "      <td>-83403264136791342</td>\n",
       "    </tr>\n",
       "    <tr>\n",
       "      <th>27</th>\n",
       "      <td>Nandy, Oishiq</td>\n",
       "      <td>-7294606698304987387</td>\n",
       "    </tr>\n",
       "    <tr>\n",
       "      <th>28</th>\n",
       "      <td>Sapra, Pujita</td>\n",
       "      <td>8225622007048178270</td>\n",
       "    </tr>\n",
       "    <tr>\n",
       "      <th>29</th>\n",
       "      <td>Shanu, Shipra</td>\n",
       "      <td>9119341040909592440</td>\n",
       "    </tr>\n",
       "    <tr>\n",
       "      <th>30</th>\n",
       "      <td>Somoye, Tessy</td>\n",
       "      <td>3304351536338388599</td>\n",
       "    </tr>\n",
       "    <tr>\n",
       "      <th>31</th>\n",
       "      <td>Voigt, Jack</td>\n",
       "      <td>6969483852326121342</td>\n",
       "    </tr>\n",
       "  </tbody>\n",
       "</table>\n",
       "</div>"
      ],
      "text/plain": [
       "                           Student                 Hash\n",
       "0                   Albadri, Hager  1440304164971153371\n",
       "1                  Brannon, Joseph   379392418257512139\n",
       "2                 Burleson, Howard -5876059200547365790\n",
       "3                   Carver, Aka'sh   178417370705844770\n",
       "4                 Davis, Nathanael -1155012396224177706\n",
       "5              Devenouges, Cassidy -2290910029969786308\n",
       "6                       Fink, Jack -4639225912538006845\n",
       "7                 Hayes, Priscilla -3307050396666584766\n",
       "8            Honnenahalli, Srushti  8996458273604827358\n",
       "9                    Ksor, Patrick -1916605416272849763\n",
       "10                  Qureshi, Sarah  5512444535046378584\n",
       "11                  Rhodes, Suqoya  1635691536871674328\n",
       "12            Ruizvalencia, Carlos -4216448415765763167\n",
       "13                  Serdan, Arturo -4698901151058499785\n",
       "14                Staton, Mckenzie  9117085443251601003\n",
       "15                    Supple, Kyle  6846964574701918709\n",
       "16                       Tan, Heng  3564399023861771691\n",
       "17                  Traylor, Alana   -29680934471851224\n",
       "18                 Wheeler, Sytiva -2110293426468742815\n",
       "19         Chunduru, Chandan Kumar  3670333503087225838\n",
       "20             Folarin, Oluwafunke -2704179675044602151\n",
       "21                    Him, Vathana  2400924999904550868\n",
       "22                  Jayanna, Deepa  4502929135190096095\n",
       "23             Kalidindi, Poojitha  8226776967895380712\n",
       "24                Kandula, Pavitra  9058734215712205409\n",
       "25                     Khan, Sarah -3067489292745361752\n",
       "26  Malgari, Chandra Shekhar Reddy   -83403264136791342\n",
       "27                   Nandy, Oishiq -7294606698304987387\n",
       "28                   Sapra, Pujita  8225622007048178270\n",
       "29                   Shanu, Shipra  9119341040909592440\n",
       "30                   Somoye, Tessy  3304351536338388599\n",
       "31                     Voigt, Jack  6969483852326121342"
      ]
     },
     "execution_count": 135,
     "metadata": {},
     "output_type": "execute_result"
    }
   ],
   "source": [
    "data.head(35)"
   ]
  },
  {
   "cell_type": "markdown",
   "metadata": {},
   "source": [
    "## We can now create a list of all of the names."
   ]
  },
  {
   "cell_type": "code",
   "execution_count": 136,
   "metadata": {},
   "outputs": [],
   "source": [
    "names = list(data['Student'])"
   ]
  },
  {
   "cell_type": "code",
   "execution_count": 137,
   "metadata": {},
   "outputs": [],
   "source": [
    "names = list(names)"
   ]
  },
  {
   "cell_type": "code",
   "execution_count": 138,
   "metadata": {},
   "outputs": [
    {
     "data": {
      "text/plain": [
       "32"
      ]
     },
     "execution_count": 138,
     "metadata": {},
     "output_type": "execute_result"
    }
   ],
   "source": [
    "len(names)"
   ]
  },
  {
   "cell_type": "markdown",
   "metadata": {},
   "source": [
    "## Now that we have our list of names, we can begin assigning names to objects that we will treat as our groups. We can use the function random.sample() to select 5 group members at random from our list of names."
   ]
  },
  {
   "cell_type": "code",
   "execution_count": 139,
   "metadata": {},
   "outputs": [],
   "source": [
    "group1 = random.sample(names, 5)"
   ]
  },
  {
   "cell_type": "code",
   "execution_count": 140,
   "metadata": {},
   "outputs": [
    {
     "name": "stdout",
     "output_type": "stream",
     "text": [
      "['Hayes, Priscilla', 'Wheeler, Sytiva', 'Brannon, Joseph', 'Kandula, Pavitra', 'Burleson, Howard']\n"
     ]
    }
   ],
   "source": [
    "print(group1)"
   ]
  },
  {
   "cell_type": "markdown",
   "metadata": {},
   "source": [
    "## The code below will remove any names that were added to group 1 from our list of names to ensure we select names without replacement. We will run this for every group we form."
   ]
  },
  {
   "cell_type": "code",
   "execution_count": 141,
   "metadata": {},
   "outputs": [],
   "source": [
    "for i in group1:\n",
    "    if i in names:\n",
    "        names.remove(i)"
   ]
  },
  {
   "cell_type": "code",
   "execution_count": 142,
   "metadata": {},
   "outputs": [],
   "source": [
    "group2 = random.sample(names, 5)"
   ]
  },
  {
   "cell_type": "code",
   "execution_count": 143,
   "metadata": {},
   "outputs": [],
   "source": [
    "for i in group2:\n",
    "    if i in names:\n",
    "        names.remove(i)"
   ]
  },
  {
   "cell_type": "code",
   "execution_count": 144,
   "metadata": {},
   "outputs": [],
   "source": [
    "group3 = random.sample(names, 5)"
   ]
  },
  {
   "cell_type": "code",
   "execution_count": 145,
   "metadata": {},
   "outputs": [],
   "source": [
    "for i in group3:\n",
    "    if i in names:\n",
    "        names.remove(i)"
   ]
  },
  {
   "cell_type": "code",
   "execution_count": 146,
   "metadata": {},
   "outputs": [],
   "source": [
    "group4 = random.sample(names, 5)"
   ]
  },
  {
   "cell_type": "code",
   "execution_count": 147,
   "metadata": {},
   "outputs": [],
   "source": [
    "for i in group4:\n",
    "    if i in names:\n",
    "        names.remove(i)"
   ]
  },
  {
   "cell_type": "code",
   "execution_count": 148,
   "metadata": {},
   "outputs": [
    {
     "data": {
      "text/plain": [
       "12"
      ]
     },
     "execution_count": 148,
     "metadata": {},
     "output_type": "execute_result"
    }
   ],
   "source": [
    "len(names)"
   ]
  },
  {
   "cell_type": "markdown",
   "metadata": {},
   "source": [
    "## Now that we only have 12 names remaining, to ensure that our groups remain similar in size, we will include 6 members in the final 2 groups."
   ]
  },
  {
   "cell_type": "code",
   "execution_count": 149,
   "metadata": {},
   "outputs": [],
   "source": [
    "group5 = random.sample(names, 6)"
   ]
  },
  {
   "cell_type": "code",
   "execution_count": 150,
   "metadata": {},
   "outputs": [],
   "source": [
    "for i in group5:\n",
    "    if i in names:\n",
    "        names.remove(i)"
   ]
  },
  {
   "cell_type": "code",
   "execution_count": 151,
   "metadata": {},
   "outputs": [],
   "source": [
    "group6 = random.sample(names, 6)"
   ]
  },
  {
   "cell_type": "code",
   "execution_count": 152,
   "metadata": {},
   "outputs": [],
   "source": [
    "for i in group6:\n",
    "    if i in names:\n",
    "        names.remove(i)"
   ]
  },
  {
   "cell_type": "code",
   "execution_count": 153,
   "metadata": {},
   "outputs": [
    {
     "name": "stdout",
     "output_type": "stream",
     "text": [
      "[]\n"
     ]
    }
   ],
   "source": [
    "print(names)"
   ]
  },
  {
   "cell_type": "markdown",
   "metadata": {},
   "source": [
    "## We can see after running all of these cells, our list of names is empty, which means all of our group members have been assigned to a group at random. We can print each of our groups and all of the names included to see the results."
   ]
  },
  {
   "cell_type": "code",
   "execution_count": 154,
   "metadata": {},
   "outputs": [
    {
     "name": "stdout",
     "output_type": "stream",
     "text": [
      "Group 1 members: Hayes, Priscilla  /  Wheeler, Sytiva  /  Brannon, Joseph  /  Kandula, Pavitra  /  Burleson, Howard\n",
      "Group 2 members: Carver, Aka'sh  /  Traylor, Alana  /  Folarin, Oluwafunke  /  Staton, Mckenzie  /  Jayanna, Deepa\n",
      "Group 3 members: Qureshi, Sarah  /  Ruizvalencia, Carlos  /  Khan, Sarah  /  Honnenahalli, Srushti  /  Albadri, Hager\n",
      "Group 4 members: Tan, Heng  /  Davis, Nathanael  /  Somoye, Tessy  /  Nandy, Oishiq  /  Kalidindi, Poojitha\n",
      "Group 5 members: Ksor, Patrick  /  Sapra, Pujita  /  Rhodes, Suqoya  /  Voigt, Jack  /  Supple, Kyle\n",
      "Group 6 members: Him, Vathana  /  Chunduru, Chandan Kumar  /  Shanu, Shipra  /  Devenouges, Cassidy  /  Serdan, Arturo\n"
     ]
    }
   ],
   "source": [
    "print(\"Group 1 members: \" + group1[0] + \"  /  \" + group1[1] + \"  /  \" + group1[2] + \"  /  \" + group1[3] + \"  /  \" + group1[4])\n",
    "print(\"Group 2 members: \" + group2[0] + \"  /  \" + group2[1] + \"  /  \" + group2[2] + \"  /  \" + group2[3] + \"  /  \" + group2[4])\n",
    "print(\"Group 3 members: \" + group3[0] + \"  /  \" + group3[1] + \"  /  \" + group3[2] + \"  /  \" + group3[3] + \"  /  \" + group3[4])\n",
    "print(\"Group 4 members: \" + group4[0] + \"  /  \" + group4[1] + \"  /  \" + group4[2] + \"  /  \" + group4[3] + \"  /  \" + group4[4])\n",
    "print(\"Group 5 members: \" + group5[0] + \"  /  \" + group5[1] + \"  /  \" + group5[2] + \"  /  \" + group5[3] + \"  /  \" + group5[4])\n",
    "print(\"Group 6 members: \" + group6[0] + \"  /  \" + group6[1] + \"  /  \" + group6[2] + \"  /  \" + group6[3] + \"  /  \" + group6[4])"
   ]
  }
 ],
 "metadata": {
  "kernelspec": {
   "display_name": "Python 3",
   "language": "python",
   "name": "python3"
  },
  "language_info": {
   "codemirror_mode": {
    "name": "ipython",
    "version": 3
   },
   "file_extension": ".py",
   "mimetype": "text/x-python",
   "name": "python",
   "nbconvert_exporter": "python",
   "pygments_lexer": "ipython3",
   "version": "3.8.5"
  }
 },
 "nbformat": 4,
 "nbformat_minor": 4
}
